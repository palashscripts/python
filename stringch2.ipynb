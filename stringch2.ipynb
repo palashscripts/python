{
  "nbformat": 4,
  "nbformat_minor": 0,
  "metadata": {
    "colab": {
      "provenance": [],
      "authorship_tag": "ABX9TyMLzwDhMr7IfgtvAbgp1BU2",
      "include_colab_link": true
    },
    "kernelspec": {
      "name": "python3",
      "display_name": "Python 3"
    },
    "language_info": {
      "name": "python"
    }
  },
  "cells": [
    {
      "cell_type": "markdown",
      "metadata": {
        "id": "view-in-github",
        "colab_type": "text"
      },
      "source": [
        "<a href=\"https://colab.research.google.com/github/palashscripts/python/blob/main/stringch2.ipynb\" target=\"_parent\"><img src=\"https://colab.research.google.com/assets/colab-badge.svg\" alt=\"Open In Colab\"/></a>"
      ]
    },
    {
      "cell_type": "code",
      "execution_count": null,
      "metadata": {
        "colab": {
          "base_uri": "https://localhost:8080/"
        },
        "id": "b4IMnSDETDfP",
        "outputId": "e60b64cc-1bf9-4c61-b1dd-a791efa6cf7f"
      },
      "outputs": [
        {
          "output_type": "stream",
          "name": "stdout",
          "text": [
            "s\n"
          ]
        }
      ],
      "source": [
        "# Indexing in python\n",
        "str =\"palash_d9x\"\n",
        "print(str[4])"
      ]
    },
    {
      "cell_type": "code",
      "source": [
        "# new line in python\n",
        "str1 =\"this is python and\\nthis is new line\"\n",
        "print(str1)\n"
      ],
      "metadata": {
        "colab": {
          "base_uri": "https://localhost:8080/"
        },
        "id": "6Uq1iMGxVQjA",
        "outputId": "538d6ee0-54f4-405c-b185-fe3738d51e1b"
      },
      "execution_count": null,
      "outputs": [
        {
          "output_type": "stream",
          "name": "stdout",
          "text": [
            "this is python and\n",
            "this is new line\n"
          ]
        }
      ]
    },
    {
      "cell_type": "code",
      "source": [
        "#Tab space in python\n",
        "str1 =\"this is python and\\tthis is new line\"\n",
        "print(str1)"
      ],
      "metadata": {
        "id": "-FkIAm1YVRO1",
        "colab": {
          "base_uri": "https://localhost:8080/"
        },
        "outputId": "a17470b4-dd03-431a-ddbd-2bc0e64e8ee2"
      },
      "execution_count": null,
      "outputs": [
        {
          "output_type": "stream",
          "name": "stdout",
          "text": [
            "this is python and\tthis is new line\n"
          ]
        }
      ]
    },
    {
      "cell_type": "code",
      "source": [
        "# addition of two string\n",
        "# String is data type that store  a sequence of character\n",
        "# concatenation - \"hello\"+\"world\"=\"hellowworld\"\n",
        "str1=\"web\"\n",
        "str2=\"developer\"\n",
        "print(str1+str2)"
      ],
      "metadata": {
        "colab": {
          "base_uri": "https://localhost:8080/"
        },
        "id": "DgBvLeDnXZzk",
        "outputId": "2ac9b65d-0f87-4bc2-805c-2afd49c0f650"
      },
      "execution_count": null,
      "outputs": [
        {
          "output_type": "stream",
          "name": "stdout",
          "text": [
            "webdeveloper\n"
          ]
        }
      ]
    },
    {
      "cell_type": "code",
      "source": [
        "# length funtion in python\n",
        "# length of str = len(str)\n",
        "str1=\"web\"\n",
        "len1=len(str1)\n",
        "print(len1)\n",
        "\n",
        "str2=\"developer\"\n",
        "len2=len(str2)\n",
        "print(len2)\n",
        "\n",
        "final_str=str1+str2\n",
        "print(len(final_str))\n",
        "print(final_str)"
      ],
      "metadata": {
        "colab": {
          "base_uri": "https://localhost:8080/"
        },
        "id": "-LSRFUjnX31E",
        "outputId": "cd9663ee-5c42-4ec3-fe2d-8c06ed7ded8f"
      },
      "execution_count": null,
      "outputs": [
        {
          "output_type": "stream",
          "name": "stdout",
          "text": [
            "3\n",
            "9\n",
            "12\n",
            "webdeveloper\n"
          ]
        }
      ]
    }
  ]
}