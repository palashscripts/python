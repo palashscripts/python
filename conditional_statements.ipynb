{
  "nbformat": 4,
  "nbformat_minor": 0,
  "metadata": {
    "colab": {
      "provenance": [],
      "authorship_tag": "ABX9TyNKF4oVF75IGtZfgA92y5a2",
      "include_colab_link": true
    },
    "kernelspec": {
      "name": "python3",
      "display_name": "Python 3"
    },
    "language_info": {
      "name": "python"
    }
  },
  "cells": [
    {
      "cell_type": "markdown",
      "metadata": {
        "id": "view-in-github",
        "colab_type": "text"
      },
      "source": [
        "<a href=\"https://colab.research.google.com/github/palashscripts/python/blob/main/conditional_statements.ipynb\" target=\"_parent\"><img src=\"https://colab.research.google.com/assets/colab-badge.svg\" alt=\"Open In Colab\"/></a>"
      ]
    },
    {
      "cell_type": "code",
      "execution_count": null,
      "metadata": {
        "id": "KlIlKywu7snu"
      },
      "outputs": [],
      "source": [
        "conditional_statements\n",
        "# if-elif-else(syntax)\n",
        "\n",
        "# if(condtion):\n",
        "#   statement1\n",
        "#   else(condtion):\n",
        "#     statement2\n",
        "#     else:\n",
        "#       statement"
      ]
    },
    {
      "cell_type": "code",
      "source": [
        "age =4\n",
        "if (True):\n",
        "  print(\"age is eligibal for vote\")"
      ],
      "metadata": {
        "id": "TXcqpLt5Ie3i",
        "colab": {
          "base_uri": "https://localhost:8080/"
        },
        "outputId": "016d4e4a-f7df-4809-dabf-26a52c6a3d92"
      },
      "execution_count": null,
      "outputs": [
        {
          "output_type": "stream",
          "name": "stdout",
          "text": [
            "age is eligibal for vote\n"
          ]
        }
      ]
    },
    {
      "cell_type": "code",
      "source": [
        "age = 32\n",
        "if (age >= 18):\n",
        "  print(\"age is eligible for vote\")"
      ],
      "metadata": {
        "colab": {
          "base_uri": "https://localhost:8080/"
        },
        "id": "u2xL6kA7LEZV",
        "outputId": "e10b1387-65ef-439b-a8f4-08e69ae407fe"
      },
      "execution_count": null,
      "outputs": [
        {
          "output_type": "stream",
          "name": "stdout",
          "text": [
            "age is eligible for vote\n"
          ]
        }
      ]
    },
    {
      "cell_type": "code",
      "source": [
        "light = \"green\"\n",
        "\n",
        "if (light == \"green\"):\n",
        "  print(\"go\")\n",
        "\n",
        "elif (light == \"yellow\"):\n",
        "  print(\"wait\")\n",
        "\n",
        "elif (light == \"red\"):\n",
        "  print(\"stop\")"
      ],
      "metadata": {
        "colab": {
          "base_uri": "https://localhost:8080/"
        },
        "id": "foAcNnurN02K",
        "outputId": "ddd21b23-6640-40f0-83d3-5690d41f2e37"
      },
      "execution_count": null,
      "outputs": [
        {
          "output_type": "stream",
          "name": "stdout",
          "text": [
            "go\n"
          ]
        }
      ]
    },
    {
      "cell_type": "code",
      "source": [
        "# write a program check if no. enterd by user is odd or evan\n",
        "num =int(input(\"enter a no.\"))\n",
        "if (num % 2==0):\n",
        "  print(\"this is evan no.\")\n",
        "else:\n",
        "    print(\"this is odd\")"
      ],
      "metadata": {
        "colab": {
          "base_uri": "https://localhost:8080/"
        },
        "id": "qAr9ZnPlkp7s",
        "outputId": "e3611f65-7cae-4d7c-ba2f-a3bcca73a9d3"
      },
      "execution_count": null,
      "outputs": [
        {
          "output_type": "stream",
          "name": "stdout",
          "text": [
            "enter a no.2\n",
            "this is evan no.\n"
          ]
        }
      ]
    },
    {
      "cell_type": "code",
      "source": [
        "# fint the greatest of 3 number enterd by user\n",
        "a=int(input(\"enter a no.\"))\n",
        "b=int(input(\"enter a no.\"))\n",
        "c=int(input(\"enter a no.\"))\n",
        "\n",
        "if (a>=b and a>=c):\n",
        "  print (\"ais greatest no.\")\n",
        "elif(b>=a and b>=c):\n",
        "  print(\"b is greatest no.\")\n",
        "else:\n",
        "  print(\"c is greatest no.\")"
      ],
      "metadata": {
        "colab": {
          "base_uri": "https://localhost:8080/"
        },
        "id": "xCdml2nzlSJA",
        "outputId": "426daab9-1ab1-452e-f962-5b5eac86aeea"
      },
      "execution_count": null,
      "outputs": [
        {
          "output_type": "stream",
          "name": "stdout",
          "text": [
            "enter a no.2\n",
            "enter a no.3\n",
            "enter a no.10\n",
            "c is greatest no.\n"
          ]
        }
      ]
    },
    {
      "cell_type": "code",
      "source": [
        "# wap to check if a number is a multipale of 7 or not\n",
        "a=int(input(\"enter a no.\"))\n",
        "if(a%7==0):\n",
        "  print(a,\"is a multiple of 7\")\n",
        "else:\n",
        "  print(a,\"is not a multiple of 7\")"
      ],
      "metadata": {
        "colab": {
          "base_uri": "https://localhost:8080/"
        },
        "id": "U9rxzDvBmESq",
        "outputId": "9c43c2f1-37dd-4726-93ef-d773b199b54b"
      },
      "execution_count": 8,
      "outputs": [
        {
          "output_type": "stream",
          "name": "stdout",
          "text": [
            "enter a no.14\n",
            "14 is a multiple of 7\n"
          ]
        }
      ]
    }
  ]
}