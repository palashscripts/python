{
  "nbformat": 4,
  "nbformat_minor": 0,
  "metadata": {
    "colab": {
      "provenance": [],
      "authorship_tag": "ABX9TyMx3JZujhu5zwHu7AxWm5iG",
      "include_colab_link": true
    },
    "kernelspec": {
      "name": "python3",
      "display_name": "Python 3"
    },
    "language_info": {
      "name": "python"
    }
  },
  "cells": [
    {
      "cell_type": "markdown",
      "metadata": {
        "id": "view-in-github",
        "colab_type": "text"
      },
      "source": [
        "<a href=\"https://colab.research.google.com/github/palashscripts/python/blob/main/pythontask1.ipynb\" target=\"_parent\"><img src=\"https://colab.research.google.com/assets/colab-badge.svg\" alt=\"Open In Colab\"/></a>"
      ]
    },
    {
      "cell_type": "code",
      "execution_count": null,
      "metadata": {
        "colab": {
          "base_uri": "https://localhost:8080/"
        },
        "id": "PITGTxlBvAqC",
        "outputId": "0e2e9180-5da1-4534-f22f-e9683f1616bc"
      },
      "outputs": [
        {
          "output_type": "stream",
          "name": "stdout",
          "text": [
            "enter a number3\n",
            "odd\n"
          ]
        }
      ],
      "source": [
        "#task1: find odd even from user input\n",
        "number = int (input(\"enter a number\"))\n",
        "if number % 2 == 0:\n",
        "    print(\"even\")\n",
        "else:\n",
        "    print(\"odd\")"
      ]
    },
    {
      "cell_type": "code",
      "source": [
        "#tsk2: find  largest no\n",
        "\n",
        "numbers = [0, 3, 43, 56, 34, 97, 65, 34, 78]\n",
        "largest = numbers[0]\n",
        "for number in numbers:\n",
        "  if number > largest:\n",
        "    largest = number\n",
        "\n",
        "print(largest)\n"
      ],
      "metadata": {
        "colab": {
          "base_uri": "https://localhost:8080/"
        },
        "id": "EEBgywa3wtfU",
        "outputId": "acf74103-908a-487e-9d54-e364884b2ce9"
      },
      "execution_count": null,
      "outputs": [
        {
          "output_type": "stream",
          "name": "stdout",
          "text": [
            "97\n"
          ]
        }
      ]
    },
    {
      "cell_type": "code",
      "source": [
        "#task3 :type list colors and find 1st and last color from list\n",
        "colors = [\"red\", \"blue\", \"pink\",\"orange\",\"yellow\"]\n",
        "print(\"First color:\",colors[0])\n",
        "print(\"last color:\",colors[-1])"
      ],
      "metadata": {
        "colab": {
          "base_uri": "https://localhost:8080/"
        },
        "id": "vHtnb9EE0RL7",
        "outputId": "37baebee-4e49-4b5f-97ed-3ce72c3d2219"
      },
      "execution_count": null,
      "outputs": [
        {
          "output_type": "stream",
          "name": "stdout",
          "text": [
            "First color: red\n",
            "last color: yellow\n"
          ]
        }
      ]
    },
    {
      "cell_type": "code",
      "source": [
        "# task4: Write a Python program that accepts an integer (n) and computes the value of n+nn+nnn.\n",
        "# Sample value of n is 5\n",
        "# Expected Result : 615\n",
        "\n",
        "n = int(input(\"Enter an integer value: \"))\n",
        "result = n + int(str(n) * 2) + int(str(n) * 3)\n",
        "print(\"this is a value of n+nn+nnn:\",result)\n"
      ],
      "metadata": {
        "id": "VVYwRi2r222J",
        "colab": {
          "base_uri": "https://localhost:8080/"
        },
        "outputId": "7fc20b3c-8f08-42c1-fcd1-867cce91d71d"
      },
      "execution_count": 11,
      "outputs": [
        {
          "output_type": "stream",
          "name": "stdout",
          "text": [
            "Enter an integer value: 5\n",
            "this is a value of n+nn+nnn: 615\n"
          ]
        }
      ]
    },
    {
      "cell_type": "code",
      "source": [
        "# task5: calculate the day betwwen days input from user\n",
        "\n",
        "from datetime import date\n",
        "\n",
        "# Get the two dates from the user.\n",
        "date1 = input(\"Enter the first date (YYYY-MM-DD): \")\n",
        "date2 = input(\"Enter the second date (YYYY-MM-DD): \")\n",
        "\n",
        "# Convert the strings to date objects.\n",
        "date1 = date.fromisoformat(date1)\n",
        "date2 = date.fromisoformat(date2)\n",
        "\n",
        "# Calculate the difference between the two dates.\n",
        "delta = date2 - date1\n",
        "\n",
        "# Print the difference in days.\n",
        "print(f\"The difference between the two dates is {delta.days} days.\")"
      ],
      "metadata": {
        "colab": {
          "base_uri": "https://localhost:8080/"
        },
        "id": "CJ1qZGV57Wgj",
        "outputId": "1779fb05-b621-4c80-f35d-deae763adbfd"
      },
      "execution_count": 13,
      "outputs": [
        {
          "output_type": "stream",
          "name": "stdout",
          "text": [
            "Enter the first date (YYYY-MM-DD): 2023-01-14\n",
            "Enter the second date (YYYY-MM-DD): 2024-07-14\n",
            "The difference between the two dates is 547 days.\n"
          ]
        }
      ]
    }
  ]
}