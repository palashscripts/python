{
  "nbformat": 4,
  "nbformat_minor": 0,
  "metadata": {
    "colab": {
      "provenance": [],
      "authorship_tag": "ABX9TyM8PQAhfd8Yhlkn3tO38snk"
    },
    "kernelspec": {
      "name": "python3",
      "display_name": "Python 3"
    },
    "language_info": {
      "name": "python"
    }
  },
  "cells": [
    {
      "cell_type": "code",
      "source": [
        "class SurvivalDurationCalculator:\n",
        "    def __init__(self, age):\n",
        "        self.age = age\n",
        "\n",
        "    def calculate_duration(self, unit):\n",
        "        if unit in ['Months', 'm']:\n",
        "            return self.age * 12\n",
        "        elif unit in ['Weeks', 'w']:\n",
        "            return self.age * 52\n",
        "        elif unit in ['Days', 'd']:\n",
        "            return self.age * 365\n",
        "        elif unit in ['Hours', 'h']:\n",
        "            return self.age * 365 * 24\n",
        "        elif unit in ['Minutes', 'min']:\n",
        "            return self.age * 365 * 24 * 60\n",
        "        elif unit in ['Seconds', 's']:\n",
        "            return self.age * 365 * 24 * 60 * 60\n",
        "        else:\n",
        "            return None\n",
        "\n",
        "def main():\n",
        "    try:\n",
        "        age = int(input(\"What's your age? \"))\n",
        "        print(\"Please choose time unit: Months, Weeks, Days, Hours, Minutes, Seconds.\")\n",
        "        print(\"Note: You can write the first letter or the full name of the time unit.\")\n",
        "        unit = input().strip()\n",
        "\n",
        "        calculator = SurvivalDurationCalculator(age)\n",
        "        duration = calculator.calculate_duration(unit)\n",
        "\n",
        "        if duration is not None:\n",
        "            unit_full_name = {\n",
        "                'm': 'Months', 'w': 'Weeks', 'd': 'Days', 'h': 'Hours', 'min': 'Minutes', 's': 'Seconds'\n",
        "            }.get(unit, unit)\n",
        "            print(f\"You lived for {duration} {unit_full_name}\")\n",
        "        else:\n",
        "            print(\"Invalid time unit selected.\")\n",
        "    except ValueError:\n",
        "        print(\"Invalid age input. Please enter a valid number.\")\n",
        "\n",
        "if __name__ == \"__main__\":\n",
        "    main()\n"
      ],
      "metadata": {
        "colab": {
          "base_uri": "https://localhost:8080/"
        },
        "id": "BZNjX66_goPA",
        "outputId": "8d119d8b-3468-4b53-bc70-726f2cac828e"
      },
      "execution_count": null,
      "outputs": [
        {
          "output_type": "stream",
          "name": "stdout",
          "text": [
            "What's your age? 24\n",
            "Please choose time unit: Months, Weeks, Days, Hours, Minutes, Seconds.\n",
            "Note: You can write the first letter or the full name of the time unit.\n",
            "d\n",
            "You lived for 8760 Days\n"
          ]
        }
      ]
    }
  ]
}